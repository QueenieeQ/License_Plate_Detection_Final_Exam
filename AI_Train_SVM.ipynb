{
  "nbformat": 4,
  "nbformat_minor": 0,
  "metadata": {
    "colab": {
      "name": "AI_Train_SVM.ipynb",
      "provenance": [],
      "collapsed_sections": [],
      "history_visible": true,
      "include_colab_link": true
    },
    "kernelspec": {
      "name": "python3",
      "display_name": "Python 3"
    },
    "accelerator": "GPU"
  },
  "cells": [
    {
      "cell_type": "markdown",
      "metadata": {
        "id": "view-in-github",
        "colab_type": "text"
      },
      "source": [
        "<a href=\"https://colab.research.google.com/github/QueenieeQ/License_Plate_Detection_Final_Exam/blob/main/AI_Train_SVM.ipynb\" target=\"_parent\"><img src=\"https://colab.research.google.com/assets/colab-badge.svg\" alt=\"Open In Colab\"/></a>"
      ]
    },
    {
      "cell_type": "code",
      "metadata": {
        "id": "Jgv2IwLK2XrY"
      },
      "source": [
        "%matplotlib inline\n",
        "import os\n",
        "import cv2\n",
        "import numpy as np\n",
        "import pandas as pd\n",
        "import seaborn as sn\n",
        "import matplotlib.pyplot as plt\n",
        "from sklearn.metrics import f1_score\n",
        "from sklearn.metrics import recall_score\n",
        "from sklearn.metrics import accuracy_score\n",
        "from sklearn.metrics import precision_score\n",
        "from sklearn.metrics import confusion_matrix\n",
        "from sklearn.metrics import classification_report\n",
        "from sklearn.model_selection import StratifiedShuffleSplit\n",
        "from sklearn.model_selection import train_test_split\n",
        "from sklearn.metrics import classification_report"
      ],
      "execution_count": 1,
      "outputs": []
    },
    {
      "cell_type": "code",
      "metadata": {
        "id": "WhOup75G24RY",
        "colab": {
          "base_uri": "https://localhost:8080/"
        },
        "outputId": "63b55c0a-afbe-4a9d-8b6e-a723cd0e30e8"
      },
      "source": [
        "from google.colab import drive\n",
        "drive.mount('/content/drive')"
      ],
      "execution_count": 3,
      "outputs": [
        {
          "output_type": "stream",
          "name": "stdout",
          "text": [
            "Mounted at /content/drive\n"
          ]
        }
      ]
    },
    {
      "cell_type": "code",
      "metadata": {
        "id": "gxX-uMVm29hL",
        "colab": {
          "base_uri": "https://localhost:8080/"
        },
        "outputId": "1ebebcd6-6aa7-44fc-f40c-dcbda70daa49"
      },
      "source": [
        "%cd'/content/drive/My Drive/AI_dataset'"
      ],
      "execution_count": 4,
      "outputs": [
        {
          "output_type": "stream",
          "name": "stdout",
          "text": [
            "/content/drive/My Drive/AI_dataset\n"
          ]
        }
      ]
    },
    {
      "cell_type": "code",
      "metadata": {
        "id": "_-vbKmQb3GCP",
        "colab": {
          "base_uri": "https://localhost:8080/"
        },
        "outputId": "46845b72-0bc2-4353-f27e-bb64122c56e6"
      },
      "source": [
        "X = []\n",
        "Y = []\n",
        "list_link = os.listdir(r'data/')\n",
        "print(list_link)\n"
      ],
      "execution_count": 5,
      "outputs": [
        {
          "output_type": "stream",
          "name": "stdout",
          "text": [
            "['85', '83', '89', '82', '88', '80', '78', '90', '84', '86', '69', '67', '75', '76', '68', '72', '66', '71', '77', '70', '49', '54', '50', '57', '56', '52', '55', '65', '53', '51', '48']\n"
          ]
        }
      ]
    },
    {
      "cell_type": "code",
      "metadata": {
        "id": "lvQaFD5Y3KO2"
      },
      "source": [
        "for i in list_link:\n",
        "    link = r'data/{}'.format(i)\n",
        "    link_img = os.listdir(link)\n",
        "    for j in link_img:\n",
        "        img = cv2.imread(r'data/{}/{}'.format(i,j), 0)\n",
        "        img = cv2.resize(img,(30,60))\n",
        "        img = img.reshape(1, -1)\n",
        "        X.append(img[0].tolist())\n",
        "        Y.append(int(i))\n",
        "        \n",
        "        \n",
        "        "
      ],
      "execution_count": 6,
      "outputs": []
    },
    {
      "cell_type": "code",
      "metadata": {
        "id": "BVicAcm13MSs"
      },
      "source": [
        "X = np.array(X,dtype=np.float32)\n",
        "Y = np.array(Y)"
      ],
      "execution_count": 7,
      "outputs": []
    },
    {
      "cell_type": "code",
      "metadata": {
        "id": "jIp9mRX_3QIB"
      },
      "source": [
        "#X_train, X_test, y_train, y_test = train_test_split(X,Y, test_size=0.2)#, random_state=7\n",
        "sss = StratifiedShuffleSplit(n_splits=2, test_size=0.2)\n",
        "for train_index, test_index in sss.split(X, Y):\n",
        "    X_train, X_test = X[train_index], X[test_index]\n",
        "    y_train, y_test = Y[train_index], Y[test_index]\n",
        "\n",
        "y_train = y_train.reshape(-1, 1)\n"
      ],
      "execution_count": 8,
      "outputs": []
    },
    {
      "cell_type": "code",
      "metadata": {
        "id": "eH-_A63k3Slt",
        "colab": {
          "base_uri": "https://localhost:8080/"
        },
        "outputId": "08dfa77d-1c2a-4cc7-d452-e0a8a8cd4564"
      },
      "source": [
        "svm_model = cv2.ml.SVM_create()\n",
        "svm_model.setType(cv2.ml.SVM_C_SVC)\n",
        "svm_model.setKernel(cv2.ml.SVM_INTER)\n",
        "svm_model.setTermCriteria((cv2.TERM_CRITERIA_MAX_ITER, 1000, 1e-10))\n",
        "svm_model.train(X_train, cv2.ml.ROW_SAMPLE, y_train)\n",
        "#svm_model.save(\"model_svm.xml\")"
      ],
      "execution_count": 9,
      "outputs": [
        {
          "output_type": "execute_result",
          "data": {
            "text/plain": [
              "True"
            ]
          },
          "metadata": {},
          "execution_count": 9
        }
      ]
    },
    {
      "cell_type": "code",
      "metadata": {
        "id": "WqLBDYrW3VPn"
      },
      "source": [
        "a = svm_model.predict(X_test)\n",
        "y_predicted = []\n",
        "for i in a[1]:\n",
        "    y_predicted.append(i[0])\n",
        "y_predicted = np.array(y_predicted)\n"
      ],
      "execution_count": 10,
      "outputs": []
    },
    {
      "cell_type": "code",
      "metadata": {
        "id": "2_XmoXrf86gl",
        "colab": {
          "base_uri": "https://localhost:8080/"
        },
        "outputId": "03cdb23b-72d9-4a14-f0cb-51dc6c9b3d2f"
      },
      "source": [
        "target = [chr(x) for x in y_predicted]\n",
        "target = list(set(target))\n",
        "target.sort()\n",
        "print('accuracy  = ',accuracy_score(y_test,y_predicted))\n",
        "print('precision = ', precision_score(y_test,y_predicted,average= 'weighted'))\n",
        "print('recall    = ', recall_score(y_test,y_predicted,average= 'weighted'))\n",
        "print(\"f1        =\", f1_score(y_test,y_predicted, average= 'weighted'))\n",
        "print(classification_report(y_test, y_predicted, target_names=target))"
      ],
      "execution_count": 11,
      "outputs": [
        {
          "output_type": "stream",
          "name": "stdout",
          "text": [
            "accuracy  =  0.9523809523809523\n",
            "precision =  0.9644954648526076\n",
            "recall    =  0.9523809523809523\n",
            "f1        = 0.9519209614861789\n",
            "              precision    recall  f1-score   support\n",
            "\n",
            "           0       0.88      1.00      0.93        14\n",
            "           1       0.86      1.00      0.92        12\n",
            "           2       1.00      0.69      0.82        13\n",
            "           3       1.00      1.00      1.00         4\n",
            "           4       1.00      1.00      1.00         2\n",
            "           5       1.00      1.00      1.00        14\n",
            "           6       1.00      1.00      1.00        10\n",
            "           7       1.00      1.00      1.00         4\n",
            "           8       1.00      1.00      1.00         8\n",
            "           9       1.00      0.88      0.93         8\n",
            "           A       1.00      1.00      1.00         4\n",
            "           B       0.92      1.00      0.96        11\n",
            "           C       1.00      1.00      1.00         7\n",
            "           D       1.00      0.80      0.89        10\n",
            "           E       1.00      1.00      1.00        10\n",
            "           F       1.00      1.00      1.00         2\n",
            "           G       1.00      1.00      1.00         4\n",
            "           H       1.00      1.00      1.00        12\n",
            "           K       1.00      0.67      0.80         3\n",
            "           L       1.00      1.00      1.00         4\n",
            "           M       0.60      1.00      0.75         3\n",
            "           N       1.00      0.60      0.75         5\n",
            "           P       1.00      1.00      1.00        12\n",
            "           R       1.00      1.00      1.00         6\n",
            "           S       1.00      1.00      1.00         3\n",
            "           T       1.00      1.00      1.00         1\n",
            "           U       1.00      1.00      1.00         7\n",
            "           V       1.00      1.00      1.00         2\n",
            "           X       1.00      1.00      1.00         6\n",
            "           Y       1.00      1.00      1.00         4\n",
            "           Z       0.62      1.00      0.77         5\n",
            "\n",
            "    accuracy                           0.95       210\n",
            "   macro avg       0.96      0.96      0.95       210\n",
            "weighted avg       0.96      0.95      0.95       210\n",
            "\n"
          ]
        }
      ]
    },
    {
      "cell_type": "code",
      "metadata": {
        "id": "nv_QVo9luysn",
        "colab": {
          "base_uri": "https://localhost:8080/",
          "height": 591
        },
        "outputId": "81ebcbb3-8001-4e87-fbf0-71193b2ad975"
      },
      "source": [
        "cm = confusion_matrix(y_test, y_predicted)\n",
        "cm = pd.DataFrame(data = cm[0:,0:], index = target, columns = target)\n",
        "plt.figure(figsize = (20,14))\n",
        "sn.heatmap(cm, annot=True)\n",
        "plt.xlabel(\"Predict\")\n",
        "plt.ylabel(\"Truth\")\n"
      ],
      "execution_count": 12,
      "outputs": [
        {
          "output_type": "execute_result",
          "data": {
            "text/plain": [
              "Text(159.0, 0.5, 'Truth')"
            ]
          },
          "metadata": {},
          "execution_count": 12
        },
        {
          "output_type": "display_data",
          "data": {
            "image/png": "[encoded data removed]",
            "text/plain": [
              "<Figure size 1440x1008 with 2 Axes>"
            ]
          },
          "metadata": {
            "needs_background": "light"
          }
        }
      ]
    }
  ]
}